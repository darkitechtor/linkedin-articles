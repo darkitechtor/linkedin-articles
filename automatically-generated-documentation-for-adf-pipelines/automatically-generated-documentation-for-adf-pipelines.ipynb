{
 "cells": [
  {
   "cell_type": "code",
   "execution_count": 24,
   "id": "f00658d2",
   "metadata": {},
   "outputs": [],
   "source": [
    "import json"
   ]
  },
  {
   "cell_type": "code",
   "execution_count": null,
   "id": "d26e9111",
   "metadata": {},
   "outputs": [],
   "source": [
    "# Some constants to work with\n",
    "FILE_WITH_PIPELINE = \"<json file with pipeline code>\"\n",
    "PLACEHOLDER_FOR_NONE = \"None\"\n",
    "PLACEHOLDER_FOR_EMPTY = \"(empty)\"\n",
    "DOC_TEMPLATE = \"\"\"[[_TOC_]]\n",
    "# Parameters\n",
    "\n",
    "<Parameters>\n",
    "\n",
    "# Variables\n",
    "\n",
    "<Variables>\n",
    "\n",
    "# Pipeline\n",
    "\"\"\"\n",
    "TABLE_TEMPLATE = \"\"\"|#|Name|Type|Default value|\n",
    "|-|-|-|-|\n",
    "\"\"\"\n",
    "MERMAID_DIAGRAM_TEMPLATE = \"\"\":::mermaid\n",
    "graph LR\n",
    "<Graph>\n",
    ":::\"\"\""
   ]
  },
  {
   "cell_type": "code",
   "execution_count": null,
   "id": "196dc74d",
   "metadata": {},
   "outputs": [],
   "source": [
    "# Read JSON file with pipeline code\n",
    "with open(FILE_WITH_PIPELINE, \"r\") as f:\n",
    "    content = f.read()\n",
    "    data = json.loads(content)"
   ]
  },
  {
   "cell_type": "code",
   "execution_count": null,
   "id": "948229a5",
   "metadata": {},
   "outputs": [],
   "source": [
    "# Get some objects from code\n",
    "title = data[\"name\"]\n",
    "properties = data[\"properties\"]\n",
    "parameters = properties[\"parameters\"]\n",
    "variables = properties[\"variables\"]\n",
    "pipeline_description = properties[\"description\"] if \"description\" in properties.keys() else None # not in use\n",
    "folder = properties[\"folder\"] # not in use\n",
    "annotations = properties[\"annotations\"] # not in use"
   ]
  },
  {
   "cell_type": "code",
   "execution_count": null,
   "id": "7659c8ea",
   "metadata": {},
   "outputs": [],
   "source": [
    "# Process parameters\n",
    "if parameters:\n",
    "    parameters_table = TABLE_TEMPLATE\n",
    "    i = 1\n",
    "    for v in parameters:\n",
    "        parameters_table += f\"|{i}|{v}|{parameters[v][\"type\"].title()}|{parameters[v][\"defaultValue\"] if \"defaultValue\" in parameters[v] else PLACEHOLDER_FOR_EMPTY}|\\n\"\n",
    "        i += 1\n",
    "else:\n",
    "    PLACEHOLDER_FOR_NONE"
   ]
  },
  {
   "cell_type": "code",
   "execution_count": null,
   "id": "e083e57e",
   "metadata": {},
   "outputs": [],
   "source": [
    "# Process variables\n",
    "if variables:\n",
    "    variables_table = TABLE_TEMPLATE\n",
    "    i = 1\n",
    "    for v in variables:\n",
    "        variables_table += f\"|{i}|{v}|{variables[v][\"type\"].title()}|{variables[v][\"defaultValue\"] if \"defaultValue\" in variables[v].keys() else PLACEHOLDER_FOR_EMPTY}|\\n\"\n",
    "        i += 1\n",
    "else:\n",
    "    PLACEHOLDER_FOR_NONE"
   ]
  },
  {
   "cell_type": "code",
   "execution_count": 30,
   "id": "bb9a8ca1",
   "metadata": {},
   "outputs": [],
   "source": [
    "# Function to get all activities in code\n",
    "def find_activities(properties:dict, parent:str=\"Main\", results:list=None):\n",
    "    if results is None:\n",
    "        results = []\n",
    "\n",
    "    if isinstance(properties, dict):\n",
    "        for key, value in properties.items():\n",
    "            if key == 'activities':\n",
    "                results.append({\"parent\": parent, \"values\": value})\n",
    "            if key == \"name\":\n",
    "                parent=value\n",
    "            find_activities(value, parent, results)\n",
    "\n",
    "    elif isinstance(properties, list):\n",
    "        for item in properties:\n",
    "            find_activities(item, parent, results)\n",
    "\n",
    "    return results"
   ]
  },
  {
   "cell_type": "code",
   "execution_count": 39,
   "id": "8edc2746",
   "metadata": {},
   "outputs": [],
   "source": [
    "# Function to parse activities. It creates diagram and sorted list of activities\n",
    "def parse_activities(activities:list):\n",
    "    activity_titles = []\n",
    "    activity_descriptions = []\n",
    "    apexes = []\n",
    "    edges = []\n",
    "    for a in activities:\n",
    "        # Prepare components for diagram\n",
    "        a_pretty_name = a[\"name\"]\n",
    "        a_formal_name = a_pretty_name.title().replace(\" \", \"\")\n",
    "        apexes.append(f\"{a_formal_name}[{a_pretty_name}]\")\n",
    "\n",
    "        a_description = a[\"description\"] if \"description\" in a.keys() else PLACEHOLDER_FOR_NONE\n",
    "\n",
    "        predecessor_position = 0\n",
    "        for d in a[\"dependsOn\"]:\n",
    "            d_formal_name = d[\"activity\"].title().replace(\" \", \"\")\n",
    "            arrow_comment = \", \".join(d[\"dependencyConditions\"])\n",
    "            edges.append(f\"{d_formal_name} --> |{arrow_comment}| {a_formal_name}\")\n",
    "            # Sort activities within one dag\n",
    "            if d[\"activity\"] in activity_titles:\n",
    "                predecessor_position = activity_titles.index(d[\"activity\"]) if activity_titles.index(d[\"activity\"]) > predecessor_position else predecessor_position\n",
    "        activity_titles.insert(predecessor_position + 1, a_pretty_name)\n",
    "        activity_descriptions.insert(predecessor_position + 1, a_description)\n",
    "\n",
    "    diagram = MERMAID_DIAGRAM_TEMPLATE.replace(\"<Graph>\", f\"{\"\\n\".join(apexes)}\\n{\"\\n\".join(edges)}\")\n",
    "    return list(zip(activity_titles, activity_descriptions)), diagram"
   ]
  },
  {
   "cell_type": "code",
   "execution_count": null,
   "id": "de417e26",
   "metadata": {},
   "outputs": [],
   "source": [
    "# Process activities\n",
    "all_activities = {}\n",
    "all_diagrams = []\n",
    "for activities in find_activities(properties):\n",
    "    diagram_title = f\"## _{activities[\"parent\"]}_\"\n",
    "    tuples, diagram = parse_activities(activities[\"values\"])\n",
    "    all_diagrams.append(f\"{diagram_title}\\n{diagram}\")\n",
    "    all_activities[activities[\"parent\"]] = tuples"
   ]
  },
  {
   "cell_type": "code",
   "execution_count": null,
   "id": "550d6db6",
   "metadata": {},
   "outputs": [],
   "source": [
    "# Function to structure activities properly (sorted and with proper intense)\n",
    "structured_activities = []\n",
    "def structure_activities(parent:str, i:int):\n",
    "    for x in all_activities[parent]:\n",
    "        structured_activities.append(f\"{'    ' * i}1. _{x[0]}_ - {x[1]}\")\n",
    "        if x[0] in all_activities.keys():\n",
    "            structure_activities(x[0], i+1)\n",
    "    return structured_activities\n",
    "\n",
    "structure_activities(\"Main\", 0)"
   ]
  },
  {
   "cell_type": "code",
   "execution_count": null,
   "id": "11eec8eb",
   "metadata": {},
   "outputs": [],
   "source": [
    "# Save result as Markdown file\n",
    "result = f\"\"\"{title.upper()}\n",
    "\n",
    "{DOC_TEMPLATE.replace('<Parameters>', parameters_table).replace('<Variables>', variables_table)}{\"\\n\".join(all_diagrams)}\n",
    "{'\\n'.join(structured_activities)}\n",
    "\"\"\"\n",
    "with open(\"test.md\", \"w\") as f:\n",
    "    f.write(result)"
   ]
  }
 ],
 "metadata": {
  "kernelspec": {
   "display_name": "Python 3",
   "language": "python",
   "name": "python3"
  },
  "language_info": {
   "codemirror_mode": {
    "name": "ipython",
    "version": 3
   },
   "file_extension": ".py",
   "mimetype": "text/x-python",
   "name": "python",
   "nbconvert_exporter": "python",
   "pygments_lexer": "ipython3",
   "version": "3.12.9"
  }
 },
 "nbformat": 4,
 "nbformat_minor": 5
}
